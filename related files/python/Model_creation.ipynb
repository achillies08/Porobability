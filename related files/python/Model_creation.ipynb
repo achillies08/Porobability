{
 "cells": [
  {
   "cell_type": "code",
   "execution_count": 4,
   "metadata": {},
   "outputs": [],
   "source": [
    "import numpy as np\n",
    "import pandas as pd\n",
    "import matplotlib.pyplot as plt\n",
    "import sklearn\n",
    "import tensorflow as tf"
   ]
  },
  {
   "cell_type": "code",
   "execution_count": 5,
   "metadata": {},
   "outputs": [
    {
     "data": {
      "text/plain": [
       "0.assists                      int64\n",
       "0.baronKills                   int64\n",
       "0.basicPings                 float64\n",
       "0.bountyLevel                  int64\n",
       "0.challenges.abilityUses     float64\n",
       "                              ...   \n",
       "9.visionScore                  int64\n",
       "9.visionWardsBoughtInGame      int64\n",
       "9.wardsKilled                  int64\n",
       "9.wardsPlaced                  int64\n",
       "teamWon                        int64\n",
       "Length: 1191, dtype: object"
      ]
     },
     "execution_count": 5,
     "metadata": {},
     "output_type": "execute_result"
    }
   ],
   "source": [
    "df = pd.read_csv('match_dataframe.csv')\n",
    "df = df.drop(df.columns[[0]],axis = 1)\n",
    "df.dtypes\n"
   ]
  },
  {
   "cell_type": "code",
   "execution_count": 6,
   "metadata": {},
   "outputs": [
    {
     "data": {
      "text/plain": [
       "0.assists                    float32\n",
       "0.baronKills                 float32\n",
       "0.basicPings                 float32\n",
       "0.bountyLevel                float32\n",
       "0.challenges.abilityUses     float32\n",
       "                              ...   \n",
       "9.visionScore                float32\n",
       "9.visionWardsBoughtInGame    float32\n",
       "9.wardsKilled                float32\n",
       "9.wardsPlaced                float32\n",
       "teamWon                      float32\n",
       "Length: 1191, dtype: object"
      ]
     },
     "execution_count": 6,
     "metadata": {},
     "output_type": "execute_result"
    }
   ],
   "source": [
    "df = df.astype(np.float32)\n",
    "df.dtypes"
   ]
  },
  {
   "cell_type": "markdown",
   "metadata": {},
   "source": [
    "Split Data:"
   ]
  },
  {
   "cell_type": "markdown",
   "metadata": {},
   "source": [
    "Features:"
   ]
  },
  {
   "cell_type": "code",
   "execution_count": 7,
   "metadata": {},
   "outputs": [],
   "source": [
    "train_data = df.sample(frac=.66,random_state=0)\n",
    "test_data = df.drop(train_data.index)"
   ]
  },
  {
   "cell_type": "markdown",
   "metadata": {},
   "source": [
    "Labels:"
   ]
  },
  {
   "cell_type": "code",
   "execution_count": 8,
   "metadata": {},
   "outputs": [],
   "source": [
    "train_label = train_data.pop('teamWon')\n",
    "test_label = test_data.pop('teamWon')"
   ]
  },
  {
   "cell_type": "markdown",
   "metadata": {},
   "source": [
    "Normalize data:"
   ]
  },
  {
   "cell_type": "code",
   "execution_count": 9,
   "metadata": {},
   "outputs": [
    {
     "data": {
      "text/html": [
       "<div>\n",
       "<style scoped>\n",
       "    .dataframe tbody tr th:only-of-type {\n",
       "        vertical-align: middle;\n",
       "    }\n",
       "\n",
       "    .dataframe tbody tr th {\n",
       "        vertical-align: top;\n",
       "    }\n",
       "\n",
       "    .dataframe thead th {\n",
       "        text-align: right;\n",
       "    }\n",
       "</style>\n",
       "<table border=\"1\" class=\"dataframe\">\n",
       "  <thead>\n",
       "    <tr style=\"text-align: right;\">\n",
       "      <th></th>\n",
       "      <th>count</th>\n",
       "      <th>mean</th>\n",
       "      <th>std</th>\n",
       "      <th>min</th>\n",
       "      <th>25%</th>\n",
       "      <th>50%</th>\n",
       "      <th>75%</th>\n",
       "      <th>max</th>\n",
       "    </tr>\n",
       "  </thead>\n",
       "  <tbody>\n",
       "    <tr>\n",
       "      <th>0.assists</th>\n",
       "      <td>1323.0</td>\n",
       "      <td>5.144369</td>\n",
       "      <td>4.661088</td>\n",
       "      <td>0.0</td>\n",
       "      <td>1.0</td>\n",
       "      <td>4.0</td>\n",
       "      <td>7.0</td>\n",
       "      <td>31.0</td>\n",
       "    </tr>\n",
       "    <tr>\n",
       "      <th>0.baronKills</th>\n",
       "      <td>1323.0</td>\n",
       "      <td>0.029478</td>\n",
       "      <td>0.169207</td>\n",
       "      <td>0.0</td>\n",
       "      <td>0.0</td>\n",
       "      <td>0.0</td>\n",
       "      <td>0.0</td>\n",
       "      <td>1.0</td>\n",
       "    </tr>\n",
       "    <tr>\n",
       "      <th>0.basicPings</th>\n",
       "      <td>1323.0</td>\n",
       "      <td>11.666667</td>\n",
       "      <td>14.351699</td>\n",
       "      <td>0.0</td>\n",
       "      <td>2.0</td>\n",
       "      <td>7.0</td>\n",
       "      <td>16.0</td>\n",
       "      <td>102.0</td>\n",
       "    </tr>\n",
       "    <tr>\n",
       "      <th>0.bountyLevel</th>\n",
       "      <td>1323.0</td>\n",
       "      <td>1.142857</td>\n",
       "      <td>2.277629</td>\n",
       "      <td>0.0</td>\n",
       "      <td>0.0</td>\n",
       "      <td>0.0</td>\n",
       "      <td>1.0</td>\n",
       "      <td>18.0</td>\n",
       "    </tr>\n",
       "    <tr>\n",
       "      <th>0.challenges.abilityUses</th>\n",
       "      <td>1323.0</td>\n",
       "      <td>190.984879</td>\n",
       "      <td>108.719582</td>\n",
       "      <td>0.0</td>\n",
       "      <td>117.5</td>\n",
       "      <td>170.0</td>\n",
       "      <td>247.5</td>\n",
       "      <td>976.0</td>\n",
       "    </tr>\n",
       "  </tbody>\n",
       "</table>\n",
       "</div>"
      ],
      "text/plain": [
       "                           count        mean         std  min    25%    50%  \\\n",
       "0.assists                 1323.0    5.144369    4.661088  0.0    1.0    4.0   \n",
       "0.baronKills              1323.0    0.029478    0.169207  0.0    0.0    0.0   \n",
       "0.basicPings              1323.0   11.666667   14.351699  0.0    2.0    7.0   \n",
       "0.bountyLevel             1323.0    1.142857    2.277629  0.0    0.0    0.0   \n",
       "0.challenges.abilityUses  1323.0  190.984879  108.719582  0.0  117.5  170.0   \n",
       "\n",
       "                            75%    max  \n",
       "0.assists                   7.0   31.0  \n",
       "0.baronKills                0.0    1.0  \n",
       "0.basicPings               16.0  102.0  \n",
       "0.bountyLevel               1.0   18.0  \n",
       "0.challenges.abilityUses  247.5  976.0  "
      ]
     },
     "execution_count": 9,
     "metadata": {},
     "output_type": "execute_result"
    }
   ],
   "source": [
    "train_stats = train_data.describe().transpose()\n",
    "train_stats.head()"
   ]
  },
  {
   "cell_type": "code",
   "execution_count": 10,
   "metadata": {},
   "outputs": [],
   "source": [
    "from sklearn.preprocessing import normalize\n",
    "\n",
    "norm_test_data = normalize(test_data)\n",
    "norm_train_data = normalize(train_data)"
   ]
  },
  {
   "cell_type": "markdown",
   "metadata": {},
   "source": [
    "Build Model:"
   ]
  },
  {
   "cell_type": "code",
   "execution_count": 11,
   "metadata": {},
   "outputs": [],
   "source": [
    "from tensorflow import keras\n",
    "from tensorflow.keras import layers\n",
    "\n",
    "model = tf.keras.models.Sequential([\n",
    "    layers.Dense(128, activation = 'relu',input_shape = [len(train_data.keys())]),\n",
    "    layers.Dense(128, activation = 'relu'),\n",
    "    layers.Dense(1,activation='sigmoid')\n",
    "])\n",
    "model.compile(optimizer = 'adam', loss='binary_crossentropy', metrics = ['accuracy'])"
   ]
  },
  {
   "cell_type": "code",
   "execution_count": 12,
   "metadata": {},
   "outputs": [
    {
     "name": "stdout",
     "output_type": "stream",
     "text": [
      "Model: \"sequential\"\n",
      "_________________________________________________________________\n",
      " Layer (type)                Output Shape              Param #   \n",
      "=================================================================\n",
      " dense (Dense)               (None, 128)               152448    \n",
      "                                                                 \n",
      " dense_1 (Dense)             (None, 128)               16512     \n",
      "                                                                 \n",
      " dense_2 (Dense)             (None, 1)                 129       \n",
      "                                                                 \n",
      "=================================================================\n",
      "Total params: 169,089\n",
      "Trainable params: 169,089\n",
      "Non-trainable params: 0\n",
      "_________________________________________________________________\n"
     ]
    }
   ],
   "source": [
    "model.summary()"
   ]
  },
  {
   "cell_type": "markdown",
   "metadata": {},
   "source": [
    "Train Model:"
   ]
  },
  {
   "cell_type": "markdown",
   "metadata": {},
   "source": [
    "If Verbose = 0, use:"
   ]
  },
  {
   "cell_type": "code",
   "execution_count": 13,
   "metadata": {},
   "outputs": [],
   "source": [
    "class PrintDot(keras.callbacks.Callback):\n",
    "    def on_epoch_end(self,epoch,logs):\n",
    "        if epoch % 100 == 0: print('')\n",
    "        print('UwU ',end='')"
   ]
  },
  {
   "cell_type": "code",
   "execution_count": 14,
   "metadata": {},
   "outputs": [
    {
     "name": "stdout",
     "output_type": "stream",
     "text": [
      "\n",
      "UwU UwU UwU UwU UwU UwU UwU UwU UwU UwU UwU UwU UwU UwU UwU UwU UwU UwU UwU UwU UwU UwU UwU UwU UwU UwU UwU UwU UwU UwU UwU UwU UwU UwU UwU UwU UwU UwU UwU UwU UwU UwU UwU UwU UwU UwU UwU UwU UwU UwU "
     ]
    }
   ],
   "source": [
    "res = model.fit(\n",
    "    train_data, train_label,\n",
    "    epochs = 50,\n",
    "    validation_split = 0.2,\n",
    "    verbose=0,\n",
    "    callbacks = [PrintDot()]\n",
    ")"
   ]
  },
  {
   "cell_type": "code",
   "execution_count": 15,
   "metadata": {},
   "outputs": [
    {
     "data": {
      "text/html": [
       "<div>\n",
       "<style scoped>\n",
       "    .dataframe tbody tr th:only-of-type {\n",
       "        vertical-align: middle;\n",
       "    }\n",
       "\n",
       "    .dataframe tbody tr th {\n",
       "        vertical-align: top;\n",
       "    }\n",
       "\n",
       "    .dataframe thead th {\n",
       "        text-align: right;\n",
       "    }\n",
       "</style>\n",
       "<table border=\"1\" class=\"dataframe\">\n",
       "  <thead>\n",
       "    <tr style=\"text-align: right;\">\n",
       "      <th></th>\n",
       "      <th>loss</th>\n",
       "      <th>accuracy</th>\n",
       "      <th>val_loss</th>\n",
       "      <th>val_accuracy</th>\n",
       "      <th>epoch</th>\n",
       "    </tr>\n",
       "  </thead>\n",
       "  <tbody>\n",
       "    <tr>\n",
       "      <th>45</th>\n",
       "      <td>26.949442</td>\n",
       "      <td>0.971645</td>\n",
       "      <td>218.211166</td>\n",
       "      <td>0.898113</td>\n",
       "      <td>45</td>\n",
       "    </tr>\n",
       "    <tr>\n",
       "      <th>46</th>\n",
       "      <td>33.352173</td>\n",
       "      <td>0.967864</td>\n",
       "      <td>305.493347</td>\n",
       "      <td>0.867925</td>\n",
       "      <td>46</td>\n",
       "    </tr>\n",
       "    <tr>\n",
       "      <th>47</th>\n",
       "      <td>24.551270</td>\n",
       "      <td>0.972590</td>\n",
       "      <td>87.810455</td>\n",
       "      <td>0.935849</td>\n",
       "      <td>47</td>\n",
       "    </tr>\n",
       "    <tr>\n",
       "      <th>48</th>\n",
       "      <td>19.821609</td>\n",
       "      <td>0.970699</td>\n",
       "      <td>130.380814</td>\n",
       "      <td>0.909434</td>\n",
       "      <td>48</td>\n",
       "    </tr>\n",
       "    <tr>\n",
       "      <th>49</th>\n",
       "      <td>27.305653</td>\n",
       "      <td>0.980151</td>\n",
       "      <td>163.375092</td>\n",
       "      <td>0.920755</td>\n",
       "      <td>49</td>\n",
       "    </tr>\n",
       "  </tbody>\n",
       "</table>\n",
       "</div>"
      ],
      "text/plain": [
       "         loss  accuracy    val_loss  val_accuracy  epoch\n",
       "45  26.949442  0.971645  218.211166      0.898113     45\n",
       "46  33.352173  0.967864  305.493347      0.867925     46\n",
       "47  24.551270  0.972590   87.810455      0.935849     47\n",
       "48  19.821609  0.970699  130.380814      0.909434     48\n",
       "49  27.305653  0.980151  163.375092      0.920755     49"
      ]
     },
     "execution_count": 15,
     "metadata": {},
     "output_type": "execute_result"
    }
   ],
   "source": [
    "hist = pd.DataFrame(res.history)\n",
    "hist['epoch'] = res.epoch\n",
    "hist.tail()"
   ]
  },
  {
   "cell_type": "code",
   "execution_count": 16,
   "metadata": {},
   "outputs": [
    {
     "name": "stdout",
     "output_type": "stream",
     "text": [
      "22/22 [==============================] - 0s 1ms/step - loss: 135.4202 - accuracy: 0.9148\n",
      "Model accuracy:  0.9148311018943787\n"
     ]
    }
   ],
   "source": [
    "ev = model.evaluate(test_data,test_label)\n",
    "print('Model accuracy: ', ev[1])"
   ]
  },
  {
   "cell_type": "code",
   "execution_count": 17,
   "metadata": {},
   "outputs": [],
   "source": [
    "model.save('./model/model.h5')"
   ]
  },
  {
   "cell_type": "code",
   "execution_count": 18,
   "metadata": {},
   "outputs": [],
   "source": [
    "import tensorflowjs as tfjs\n",
    "# tfjs.converters.save_keras_model(model, 'E:\\Programming\\WebDev\\Porobability\\porobability_server/tfModel/')"
   ]
  },
  {
   "cell_type": "markdown",
   "metadata": {},
   "source": []
  }
 ],
 "metadata": {
  "kernelspec": {
   "display_name": "Python 3.10.7 64-bit",
   "language": "python",
   "name": "python3"
  },
  "language_info": {
   "codemirror_mode": {
    "name": "ipython",
    "version": 3
   },
   "file_extension": ".py",
   "mimetype": "text/x-python",
   "name": "python",
   "nbconvert_exporter": "python",
   "pygments_lexer": "ipython3",
   "version": "3.10.7"
  },
  "orig_nbformat": 4,
  "vscode": {
   "interpreter": {
    "hash": "eef3fcd8a5302aa5b833de0cb63947c10383b053a4000f5affa7bba2f2033010"
   }
  }
 },
 "nbformat": 4,
 "nbformat_minor": 2
}
